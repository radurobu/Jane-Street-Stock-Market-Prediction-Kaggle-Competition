{
 "cells": [
  {
   "cell_type": "markdown",
   "metadata": {
    "papermill": {
     "duration": 0.015984,
     "end_time": "2021-02-10T19:21:56.654540",
     "exception": false,
     "start_time": "2021-02-10T19:21:56.638556",
     "status": "completed"
    },
    "tags": []
   },
   "source": [
    "# Jane Street: XGBoost HyperOpt + GroupKFold\n",
    "\n",
    "I've made a notebook for hyperparameter tuning for XGBoost/LightGBM/CatBoost models. I use the Purged Rolling Time Series CV Split and GroupTimesSeriesSplit methods. I also try the forward-fillna method.\n",
    "\n",
    "**References:**\n",
    "\n",
    "https://www.kaggle.com/hamditarek/market-prediction-xgboost-with-gpu-fit-in-1min\n",
    "\n",
    "https://www.kaggle.com/xhlulu/jane-street-cudf-xgboost-with-gpu\n",
    "\n",
    "https://www.kaggle.com/jorijnsmit/found-the-holy-grail-grouptimeseriessplit\n",
    "\n",
    "https://www.kaggle.com/marketneutral/purged-rolling-time-series-cv-split\n",
    "\n",
    "https://www.kaggle.com/jorijnsmit/validating-cross-validators"
   ]
  },
  {
   "cell_type": "markdown",
   "metadata": {
    "papermill": {
     "duration": 0.013354,
     "end_time": "2021-02-10T19:21:56.682220",
     "exception": false,
     "start_time": "2021-02-10T19:21:56.668866",
     "status": "completed"
    },
    "tags": []
   },
   "source": [
    "1) Data memory reduction\n",
    "\n",
    "2) Optuna Hyperoptimization\n",
    "\n",
    "3) Weight as feature\n",
    "\n",
    "4) ~Action def changed to: train['action'] =  (  (train['resp_1'] > 0 ) & (train['resp_2'] > 0 ) & (train['resp_3'] > 0 ) & (train['resp_4'] > 0 ) &  (train['resp'] > 0 )   ).astype('int')~\n",
    "\n",
    "5) Repaired utility function\n",
    "\n",
    "6) ~New features~ \n",
    "\n",
    "7) Action def changed to: train['action'] =  (  (train['resp'] > 0.0002 ) & (train['weight'] < 130)).astype('int')\n",
    "\n",
    "8) New Optuna Hyperoptimization using utility score\n",
    "\n",
    "9) AUTOENCODER FEATURES\n",
    "\n",
    "10) ~NEW NEW FEATURES~\n",
    "\n",
    "11) ~train['date'] > 85~\n",
    "\n",
    "12) New ENCODER with NEW FEATURES"
   ]
  },
  {
   "cell_type": "code",
   "execution_count": 1,
   "metadata": {
    "_kg_hide-output": true,
    "execution": {
     "iopub.execute_input": "2021-02-10T19:21:56.721612Z",
     "iopub.status.busy": "2021-02-10T19:21:56.720714Z",
     "iopub.status.idle": "2021-02-10T19:22:07.278507Z",
     "shell.execute_reply": "2021-02-10T19:22:07.277273Z"
    },
    "papermill": {
     "duration": 10.582199,
     "end_time": "2021-02-10T19:22:07.278727",
     "exception": false,
     "start_time": "2021-02-10T19:21:56.696528",
     "status": "completed"
    },
    "tags": []
   },
   "outputs": [
    {
     "data": {
      "text/html": [
       "<style type='text/css'>\n",
       ".datatable table.frame { margin-bottom: 0; }\n",
       ".datatable table.frame thead { border-bottom: none; }\n",
       ".datatable table.frame tr.coltypes td {  color: #FFFFFF;  line-height: 6px;  padding: 0 0.5em;}\n",
       ".datatable .bool    { background: #DDDD99; }\n",
       ".datatable .object  { background: #565656; }\n",
       ".datatable .int     { background: #5D9E5D; }\n",
       ".datatable .float   { background: #4040CC; }\n",
       ".datatable .str     { background: #CC4040; }\n",
       ".datatable .row_index {  background: var(--jp-border-color3);  border-right: 1px solid var(--jp-border-color0);  color: var(--jp-ui-font-color3);  font-size: 9px;}\n",
       ".datatable .frame tr.coltypes .row_index {  background: var(--jp-border-color0);}\n",
       ".datatable th:nth-child(2) { padding-left: 12px; }\n",
       ".datatable .hellipsis {  color: var(--jp-cell-editor-border-color);}\n",
       ".datatable .vellipsis {  background: var(--jp-layout-color0);  color: var(--jp-cell-editor-border-color);}\n",
       ".datatable .na {  color: var(--jp-cell-editor-border-color);  font-size: 80%;}\n",
       ".datatable .footer { font-size: 9px; }\n",
       ".datatable .frame_dimensions {  background: var(--jp-border-color3);  border-top: 1px solid var(--jp-border-color0);  color: var(--jp-ui-font-color3);  display: inline-block;  opacity: 0.6;  padding: 1px 10px 1px 5px;}\n",
       "</style>\n"
      ],
      "text/plain": [
       "<IPython.core.display.HTML object>"
      ]
     },
     "metadata": {},
     "output_type": "display_data"
    }
   ],
   "source": [
    "import os, gc\n",
    "import numpy as np\n",
    "from numba import njit\n",
    "import datatable as dtable\n",
    "import pandas as pd\n",
    "import janestreet\n",
    "import xgboost as xgb\n",
    "from hyperopt import hp, fmin, tpe, Trials\n",
    "from hyperopt.pyll.base import scope\n",
    "from sklearn.metrics import roc_auc_score, roc_curve\n",
    "from sklearn.model_selection import GroupKFold\n",
    "import matplotlib.pyplot as plt\n",
    "from matplotlib.colors import ListedColormap\n",
    "import seaborn as sns\n",
    "from tqdm.notebook import tqdm\n",
    "from joblib import dump, load\n",
    "import pickle\n",
    "import optuna\n",
    "\n",
    "from tensorflow.keras.layers import Input, Dense, BatchNormalization, Dropout, Concatenate, Lambda, GaussianNoise, Activation\n",
    "from tensorflow.keras.models import Model, Sequential\n",
    "from tensorflow.keras.losses import BinaryCrossentropy\n",
    "from tensorflow.keras.optimizers import Adam, Adagrad\n",
    "from tensorflow.keras.callbacks import EarlyStopping, ReduceLROnPlateau\n",
    "from tensorflow.keras.layers.experimental.preprocessing import Normalization\n",
    "import tensorflow as tf\n",
    "\n",
    "#Limit Tensorflow GPU Usage (verry important)\n",
    "physical_devices = tf.config.experimental.list_physical_devices('GPU')\n",
    "tf.config.experimental.set_memory_growth(physical_devices[0], True)"
   ]
  },
  {
   "cell_type": "code",
   "execution_count": 2,
   "metadata": {
    "_kg_hide-input": false,
    "execution": {
     "iopub.execute_input": "2021-02-10T19:22:07.321066Z",
     "iopub.status.busy": "2021-02-10T19:22:07.320218Z",
     "iopub.status.idle": "2021-02-10T19:22:07.323666Z",
     "shell.execute_reply": "2021-02-10T19:22:07.323112Z"
    },
    "papermill": {
     "duration": 0.029881,
     "end_time": "2021-02-10T19:22:07.323806",
     "exception": false,
     "start_time": "2021-02-10T19:22:07.293925",
     "status": "completed"
    },
    "tags": []
   },
   "outputs": [],
   "source": [
    "# weighted average as per Donate et al.'s formula\n",
    "# https://doi.org/10.1016/j.neucom.2012.02.053\n",
    "def weighted_average(a):\n",
    "    w = []\n",
    "    n = len(a)\n",
    "    for j in range(1, n + 1):\n",
    "        j = 2 if j == 1 else j\n",
    "        w.append(1 / (2**(n + 1 - j)))\n",
    "    return np.average(a, weights = w)"
   ]
  },
  {
   "cell_type": "markdown",
   "metadata": {
    "papermill": {
     "duration": 0.014795,
     "end_time": "2021-02-10T19:22:07.353697",
     "exception": false,
     "start_time": "2021-02-10T19:22:07.338902",
     "status": "completed"
    },
    "tags": []
   },
   "source": [
    "# Preprocessing"
   ]
  },
  {
   "cell_type": "code",
   "execution_count": 3,
   "metadata": {
    "execution": {
     "iopub.execute_input": "2021-02-10T19:22:07.389956Z",
     "iopub.status.busy": "2021-02-10T19:22:07.388061Z",
     "iopub.status.idle": "2021-02-10T19:22:07.390744Z",
     "shell.execute_reply": "2021-02-10T19:22:07.391278Z"
    },
    "papermill": {
     "duration": 0.022384,
     "end_time": "2021-02-10T19:22:07.391435",
     "exception": false,
     "start_time": "2021-02-10T19:22:07.369051",
     "status": "completed"
    },
    "tags": []
   },
   "outputs": [],
   "source": [
    "n_splits = 5\n",
    "group_gap = 31\n",
    "add_encoder = True"
   ]
  },
  {
   "cell_type": "code",
   "execution_count": 4,
   "metadata": {
    "_kg_hide-output": true,
    "execution": {
     "iopub.execute_input": "2021-02-10T19:22:07.427806Z",
     "iopub.status.busy": "2021-02-10T19:22:07.427125Z",
     "iopub.status.idle": "2021-02-10T19:22:25.674083Z",
     "shell.execute_reply": "2021-02-10T19:22:25.673294Z"
    },
    "papermill": {
     "duration": 18.268007,
     "end_time": "2021-02-10T19:22:25.674311",
     "exception": false,
     "start_time": "2021-02-10T19:22:07.406304",
     "status": "completed"
    },
    "tags": []
   },
   "outputs": [
    {
     "name": "stdout",
     "output_type": "stream",
     "text": [
      "Loading...\n",
      "Filling...\n",
      "Finish.\n",
      "CPU times: user 3.05 s, sys: 2.97 s, total: 6.02 s\n",
      "Wall time: 18.2 s\n"
     ]
    }
   ],
   "source": [
    "%%time\n",
    "\n",
    "print('Loading...')\n",
    "#train = dtable.fread('/kaggle/input/jane-street-market-prediction/train.csv').to_pandas()\n",
    "train = pickle.load(open('../input/janestreet-data-pickling/train.csv.pandas.pickle', 'rb'))\n",
    "#NEW_FEATURES = pd.read_csv('../input/jane-street-feature-engineering/NEW_FEATURES.csv').set_index('ts_id')\n",
    "features = [c for c in train.columns if 'feature' in c] + ['weight'] #+ NEW_FEATURES.columns.tolist()\n",
    "\n",
    "print('Filling...')\n",
    "train = train.query('weight > 0').reset_index(drop = True)\n",
    "\n",
    "#train = pd.merge(train, NEW_FEATURES, how='left', left_on = ['ts_id'], right_index=True)\n",
    "\n",
    "train[features] = train[features].fillna(method = 'ffill').fillna(0)\n",
    "\n",
    "#train['action'] = (train['resp'] > 0).astype('int')\n",
    "#train['action'] =  (  (train['resp_1'] > 0 ) & (train['resp_2'] > 0 ) & (train['resp_3'] > 0 ) & (train['resp_4'] > 0 ) &  (train['resp'] > 0 )   ).astype('int')\n",
    "train['action'] =  (  (train['resp'] > 0.0002 ) & (train['weight'] < 130)).astype('int')\n",
    "\n",
    "print('Finish.')\n",
    "\n",
    "#train['feature_stock_id_sum'] = train['feature_41'] + train['feature_42'] + train['feature_43']\n",
    "#train['feature_1_2_cross'] = train['feature_1']/(train['feature_2']+1e-5)\n",
    "#train['feature_34_43_cross'] = ( (train['feature_34'] > 0) & (train['feature_43'] > 0) ).astype('int')\n",
    "\n",
    "#features = features + ['feature_stock_id_sum', 'feature_1_2_cross', 'feature_34_43_cross']"
   ]
  },
  {
   "cell_type": "markdown",
   "metadata": {
    "papermill": {
     "duration": 0.016468,
     "end_time": "2021-02-10T19:22:25.708701",
     "exception": false,
     "start_time": "2021-02-10T19:22:25.692233",
     "status": "completed"
    },
    "tags": []
   },
   "source": [
    "# PurgedTimeSeriesKFold & GroupTimeSplitKFold"
   ]
  },
  {
   "cell_type": "code",
   "execution_count": 5,
   "metadata": {
    "_kg_hide-input": true,
    "_kg_hide-output": false,
    "execution": {
     "iopub.execute_input": "2021-02-10T19:22:25.766532Z",
     "iopub.status.busy": "2021-02-10T19:22:25.764444Z",
     "iopub.status.idle": "2021-02-10T19:22:25.767287Z",
     "shell.execute_reply": "2021-02-10T19:22:25.767811Z"
    },
    "papermill": {
     "duration": 0.042669,
     "end_time": "2021-02-10T19:22:25.767967",
     "exception": false,
     "start_time": "2021-02-10T19:22:25.725298",
     "status": "completed"
    },
    "tags": []
   },
   "outputs": [],
   "source": [
    "import numpy as np\n",
    "from sklearn.model_selection import KFold\n",
    "from sklearn.model_selection._split import _BaseKFold, indexable, _num_samples\n",
    "from sklearn.utils.validation import _deprecate_positional_args\n",
    "\n",
    "# modified code for group gaps; source\n",
    "# https://github.com/getgaurav2/scikit-learn/blob/d4a3af5cc9da3a76f0266932644b884c99724c57/sklearn/model_selection/_split.py#L2243\n",
    "class PurgedGroupTimeSeriesSplit(_BaseKFold):\n",
    "    \"\"\"Time Series cross-validator variant with non-overlapping groups.\n",
    "    Allows for a gap in groups to avoid potentially leaking info from\n",
    "    train into test if the model has windowed or lag features.\n",
    "    Provides train/test indices to split time series data samples\n",
    "    that are observed at fixed time intervals according to a\n",
    "    third-party provided group.\n",
    "    In each split, test indices must be higher than before, and thus shuffling\n",
    "    in cross validator is inappropriate.\n",
    "    This cross-validation object is a variation of :class:`KFold`.\n",
    "    In the kth split, it returns first k folds as train set and the\n",
    "    (k+1)th fold as test set.\n",
    "    The same group will not appear in two different folds (the number of\n",
    "    distinct groups has to be at least equal to the number of folds).\n",
    "    Note that unlike standard cross-validation methods, successive\n",
    "    training sets are supersets of those that come before them.\n",
    "    Read more in the :ref:`User Guide <cross_validation>`.\n",
    "    Parameters\n",
    "    ----------\n",
    "    n_splits : int, default=5\n",
    "        Number of splits. Must be at least 2.\n",
    "    max_train_group_size : int, default=Inf\n",
    "        Maximum group size for a single training set.\n",
    "    group_gap : int, default=None\n",
    "        Gap between train and test\n",
    "    max_test_group_size : int, default=Inf\n",
    "        We discard this number of groups from the end of each train split\n",
    "    \"\"\"\n",
    "\n",
    "    @_deprecate_positional_args\n",
    "    def __init__(self,\n",
    "                 n_splits=5,\n",
    "                 *,\n",
    "                 max_train_group_size=np.inf,\n",
    "                 max_test_group_size=np.inf,\n",
    "                 group_gap=None,\n",
    "                 verbose=False\n",
    "                 ):\n",
    "        super().__init__(n_splits, shuffle=False, random_state=None)\n",
    "        self.max_train_group_size = max_train_group_size\n",
    "        self.group_gap = group_gap\n",
    "        self.max_test_group_size = max_test_group_size\n",
    "        self.verbose = verbose\n",
    "\n",
    "    def split(self, X, y=None, groups=None):\n",
    "        \"\"\"Generate indices to split data into training and test set.\n",
    "        Parameters\n",
    "        ----------\n",
    "        X : array-like of shape (n_samples, n_features)\n",
    "            Training data, where n_samples is the number of samples\n",
    "            and n_features is the number of features.\n",
    "        y : array-like of shape (n_samples,)\n",
    "            Always ignored, exists for compatibility.\n",
    "        groups : array-like of shape (n_samples,)\n",
    "            Group labels for the samples used while splitting the dataset into\n",
    "            train/test set.\n",
    "        Yields\n",
    "        ------\n",
    "        train : ndarray\n",
    "            The training set indices for that split.\n",
    "        test : ndarray\n",
    "            The testing set indices for that split.\n",
    "        \"\"\"\n",
    "        if groups is None:\n",
    "            raise ValueError(\n",
    "                \"The 'groups' parameter should not be None\")\n",
    "        X, y, groups = indexable(X, y, groups)\n",
    "        n_samples = _num_samples(X)\n",
    "        n_splits = self.n_splits\n",
    "        group_gap = self.group_gap\n",
    "        max_test_group_size = self.max_test_group_size\n",
    "        max_train_group_size = self.max_train_group_size\n",
    "        n_folds = n_splits + 1\n",
    "        group_dict = {}\n",
    "        u, ind = np.unique(groups, return_index=True)\n",
    "        unique_groups = u[np.argsort(ind)]\n",
    "        n_samples = _num_samples(X)\n",
    "        n_groups = _num_samples(unique_groups)\n",
    "        for idx in np.arange(n_samples):\n",
    "            if (groups[idx] in group_dict):\n",
    "                group_dict[groups[idx]].append(idx)\n",
    "            else:\n",
    "                group_dict[groups[idx]] = [idx]\n",
    "        if n_folds > n_groups:\n",
    "            raise ValueError(\n",
    "                (\"Cannot have number of folds={0} greater than\"\n",
    "                 \" the number of groups={1}\").format(n_folds,\n",
    "                                                     n_groups))\n",
    "\n",
    "        group_test_size = min(n_groups // n_folds, max_test_group_size)\n",
    "        group_test_starts = range(n_groups - n_splits * group_test_size,\n",
    "                                  n_groups, group_test_size)\n",
    "        for group_test_start in group_test_starts:\n",
    "            train_array = []\n",
    "            test_array = []\n",
    "\n",
    "            group_st = max(0, group_test_start - group_gap - max_train_group_size)\n",
    "            for train_group_idx in unique_groups[group_st:(group_test_start - group_gap)]:\n",
    "                train_array_tmp = group_dict[train_group_idx]\n",
    "                \n",
    "                train_array = np.sort(np.unique(\n",
    "                                      np.concatenate((train_array,\n",
    "                                                      train_array_tmp)),\n",
    "                                      axis=None), axis=None)\n",
    "\n",
    "            train_end = train_array.size\n",
    " \n",
    "            for test_group_idx in unique_groups[group_test_start:\n",
    "                                                group_test_start +\n",
    "                                                group_test_size]:\n",
    "                test_array_tmp = group_dict[test_group_idx]\n",
    "                test_array = np.sort(np.unique(\n",
    "                                              np.concatenate((test_array,\n",
    "                                                              test_array_tmp)),\n",
    "                                     axis=None), axis=None)\n",
    "\n",
    "            test_array  = test_array[group_gap:]\n",
    "            \n",
    "            \n",
    "            if self.verbose > 0:\n",
    "                    pass\n",
    "                    \n",
    "            yield [int(i) for i in train_array], [int(i) for i in test_array]"
   ]
  },
  {
   "cell_type": "markdown",
   "metadata": {
    "papermill": {
     "duration": 0.017715,
     "end_time": "2021-02-10T19:22:25.802505",
     "exception": false,
     "start_time": "2021-02-10T19:22:25.784790",
     "status": "completed"
    },
    "tags": []
   },
   "source": [
    "# Add Encoder Features"
   ]
  },
  {
   "cell_type": "code",
   "execution_count": 6,
   "metadata": {
    "_kg_hide-input": true,
    "execution": {
     "iopub.execute_input": "2021-02-10T19:22:25.851699Z",
     "iopub.status.busy": "2021-02-10T19:22:25.850797Z",
     "iopub.status.idle": "2021-02-10T19:22:25.854796Z",
     "shell.execute_reply": "2021-02-10T19:22:25.854214Z"
    },
    "papermill": {
     "duration": 0.035596,
     "end_time": "2021-02-10T19:22:25.854945",
     "exception": false,
     "start_time": "2021-02-10T19:22:25.819349",
     "status": "completed"
    },
    "tags": []
   },
   "outputs": [],
   "source": [
    "# From https://medium.com/@micwurm/using-tensorflow-lite-to-speed-up-predictions-a3954886eb98\n",
    "\n",
    "class LiteModel:\n",
    "    \n",
    "    @classmethod\n",
    "    def from_file(cls, model_path):\n",
    "        return LiteModel(tf.lite.Interpreter(model_path=model_path))\n",
    "    \n",
    "    @classmethod\n",
    "    def from_keras_model(cls, kmodel):\n",
    "        converter = tf.lite.TFLiteConverter.from_keras_model(kmodel)\n",
    "        tflite_model = converter.convert()\n",
    "        return LiteModel(tf.lite.Interpreter(model_content=tflite_model))\n",
    "    \n",
    "    def __init__(self, interpreter):\n",
    "        self.interpreter = interpreter\n",
    "        self.interpreter.allocate_tensors()\n",
    "        input_det = self.interpreter.get_input_details()[0]\n",
    "        output_det = self.interpreter.get_output_details()[0]\n",
    "        self.input_index = input_det[\"index\"]\n",
    "        self.output_index = output_det[\"index\"]\n",
    "        self.input_shape = input_det[\"shape\"]\n",
    "        self.output_shape = output_det[\"shape\"]\n",
    "        self.input_dtype = input_det[\"dtype\"]\n",
    "        self.output_dtype = output_det[\"dtype\"]\n",
    "        \n",
    "    def predict(self, inp):\n",
    "        inp = inp.astype(self.input_dtype)\n",
    "        count = inp.shape[0]\n",
    "        out = np.zeros((count, self.output_shape[1]), dtype=self.output_dtype)\n",
    "        for i in range(count):\n",
    "            self.interpreter.set_tensor(self.input_index, inp[i:i+1])\n",
    "            self.interpreter.invoke()\n",
    "            out[i] = self.interpreter.get_tensor(self.output_index)[0]\n",
    "        return out\n",
    "    \n",
    "    def predict_single(self, inp):\n",
    "        \"\"\" Like predict(), but only for a single record. The input data can be a Python list. \"\"\"\n",
    "        inp = np.array([inp], dtype=self.input_dtype)\n",
    "        self.interpreter.set_tensor(self.input_index, inp)\n",
    "        self.interpreter.invoke()\n",
    "        out = self.interpreter.get_tensor(self.output_index)\n",
    "        return out[0]"
   ]
  },
  {
   "cell_type": "code",
   "execution_count": 7,
   "metadata": {
    "execution": {
     "iopub.execute_input": "2021-02-10T19:22:25.904128Z",
     "iopub.status.busy": "2021-02-10T19:22:25.902110Z",
     "iopub.status.idle": "2021-02-10T19:22:25.904896Z",
     "shell.execute_reply": "2021-02-10T19:22:25.905439Z"
    },
    "papermill": {
     "duration": 0.033546,
     "end_time": "2021-02-10T19:22:25.905617",
     "exception": false,
     "start_time": "2021-02-10T19:22:25.872071",
     "status": "completed"
    },
    "tags": []
   },
   "outputs": [],
   "source": [
    "def create_encoder(input_dim,output_dim,noise=0.05):\n",
    "    i = Input(input_dim)\n",
    "    encoded = BatchNormalization()(i)\n",
    "    #encoded = GaussianNoise(noise)(encoded)\n",
    "    encoded = Dense(128,activation='relu')(encoded)\n",
    "\n",
    "    encoded = BatchNormalization()(encoded)\n",
    "    encoded = Dropout(0.2)(encoded)\n",
    "    encoded = Dense(64,activation='relu')(encoded)\n",
    "    \n",
    "    decoded = BatchNormalization()(encoded)\n",
    "    decoded = Dropout(0.2)(decoded)\n",
    "    decoded = Dense(128,activation='relu')(decoded)\n",
    "    decoded = BatchNormalization()(decoded)\n",
    "    decoded = Dropout(0.2)(decoded)\n",
    "    decoded = Dense(input_dim,name='decoded')(decoded)\n",
    "    \n",
    "    x = Dense(32)(decoded)\n",
    "    x = BatchNormalization()(x)\n",
    "    x = Lambda(tf.keras.activations.swish)(x)\n",
    "    x = Dropout(0.2)(x)\n",
    "    x = Dense(16)(x)\n",
    "    x = BatchNormalization()(x)\n",
    "    x = Lambda(tf.keras.activations.swish)(x)\n",
    "    x = Dropout(0.2)(x)\n",
    "    x = Dense(output_dim,activation='sigmoid',name='label_output')(x)\n",
    "    \n",
    "    encoder = Model(inputs=i,outputs=encoded)\n",
    "    decoder = Model(inputs=i,outputs=decoded)\n",
    "    autoencoder = Model(inputs=i,outputs=[decoded,x])\n",
    "    \n",
    "    autoencoder.compile(optimizer=Adam(0.01),loss={'decoded':'mse','label_output':'binary_crossentropy'})\n",
    "    return autoencoder, decoder, encoder"
   ]
  },
  {
   "cell_type": "code",
   "execution_count": 8,
   "metadata": {
    "execution": {
     "iopub.execute_input": "2021-02-10T19:22:26.258179Z",
     "iopub.status.busy": "2021-02-10T19:22:26.257333Z",
     "iopub.status.idle": "2021-02-10T19:23:02.209939Z",
     "shell.execute_reply": "2021-02-10T19:23:02.210673Z"
    },
    "papermill": {
     "duration": 36.288523,
     "end_time": "2021-02-10T19:23:02.210921",
     "exception": false,
     "start_time": "2021-02-10T19:22:25.922398",
     "status": "completed"
    },
    "tags": []
   },
   "outputs": [
    {
     "name": "stdout",
     "output_type": "stream",
     "text": [
      "CPU times: user 31.8 s, sys: 2.24 s, total: 34 s\n",
      "Wall time: 36.2 s\n"
     ]
    }
   ],
   "source": [
    "%%time\n",
    "if add_encoder:\n",
    "    autoencoder, decoder, encoder = create_encoder(train[features].shape[-1],1,noise=0)\n",
    "    encoder.trainable = False\n",
    "\n",
    "    encoder.load_weights(f'../input/jane-street-bottleneck-encoder-fe-train/encoder_62.tf')\n",
    "    encoder = LiteModel.from_keras_model(encoder)\n",
    "\n",
    "\n",
    "    enc_fe = encoder.predict(train[features].values)\n",
    "    enc_fe = pd.DataFrame(enc_fe)\n",
    "    enc_fe.columns = ['enc_fe' + str(col_name)  for col_name in enc_fe.columns]\n",
    "    \n",
    "    train = pd.concat([train,enc_fe], axis=1)"
   ]
  },
  {
   "cell_type": "code",
   "execution_count": 9,
   "metadata": {
    "execution": {
     "iopub.execute_input": "2021-02-10T19:23:02.254508Z",
     "iopub.status.busy": "2021-02-10T19:23:02.253083Z",
     "iopub.status.idle": "2021-02-10T19:23:03.491759Z",
     "shell.execute_reply": "2021-02-10T19:23:03.491126Z"
    },
    "papermill": {
     "duration": 1.262801,
     "end_time": "2021-02-10T19:23:03.491908",
     "exception": false,
     "start_time": "2021-02-10T19:23:02.229107",
     "status": "completed"
    },
    "tags": []
   },
   "outputs": [],
   "source": [
    "#Update Features\n",
    "#features = [c for c in train.columns if 'feature' in c] + ['weight'] + [c for c in enc_fe.columns if 'enc' in c] #+ NEW_FEATURES.columns.tolist()\n",
    "#After Feature Selection\n",
    "#features = ['feature_43', 'feature_44', 'feature_41', 'feature_45', 'feature_42', 'feature_5', 'feature_6', 'feature_62', 'feature_83', 'feature_60', 'feature_3', 'feature_63', 'feature_4', 'feature_39', 'feature_40', 'feature_61', 'feature_38', 'feature_77', 'feature_37', 'feature_64', 'feature_121', 'feature_120', 'feature_55', 'feature_107', 'feature_125', 'feature_95', 'feature_101', 'feature_89', 'feature_124', 'feature_90', 'feature_65', 'feature_67', 'feature_57', 'feature_102', 'feature_119', 'enc_fe20', 'feature_84', 'feature_113', 'enc_fe26', 'feature_66', 'feature_127', 'feature_78', 'feature_27', 'enc_fe18', 'enc_fe16', 'feature_7', 'enc_fe63', 'feature_8', 'feature_28', 'enc_fe23', 'feature_96', 'enc_fe29', 'feature_58', 'enc_fe28', 'enc_fe39', 'feature_18', 'enc_fe33', 'enc_fe62', 'enc_fe7', 'enc_fe44', 'enc_fe10', 'enc_fe6', 'enc_fe36', 'enc_fe12', 'enc_fe19', 'enc_fe14', 'feature_17', 'feature_68', 'feature_114', 'enc_fe8', 'enc_fe21', 'enc_fe38', 'enc_fe57', 'enc_fe27', 'enc_fe32', 'feature_53', 'enc_fe54', 'feature_126', 'enc_fe53', 'enc_fe46', 'feature_56', 'feature_108', 'enc_fe56', 'enc_fe2', 'feature_72', 'enc_fe59', 'feature_59', 'enc_fe1', 'feature_92', 'enc_fe30', 'enc_fe25', 'enc_fe55', 'enc_fe61', 'feature_70', 'enc_fe9', 'enc_fe40', 'feature_71', 'enc_fe50', 'enc_fe48', 'enc_fe49', 'enc_fe52', 'enc_fe3', 'enc_fe17', 'enc_fe58', 'feature_49', 'feature_54', 'enc_fe35', 'enc_fe31', 'enc_fe24', 'feature_69', 'enc_fe0', 'feature_129', 'feature_110', 'enc_fe37', 'enc_fe22', 'feature_86', 'enc_fe4', 'feature_123', 'enc_fe15', 'feature_20', 'enc_fe43', 'enc_fe42', 'enc_fe13', 'feature_104', 'feature_116', 'feature_98', 'feature_30', 'enc_fe5', 'enc_fe51', 'feature_11', 'enc_fe41', 'feature_128', 'feature_50', 'feature_117', 'feature_80', 'feature_12', 'enc_fe47', 'feature_52', 'feature_31', 'feature_32', 'feature_122', 'feature_111', 'feature_21', 'weight', 'feature_46', 'feature_105', 'feature_99', 'feature_2', 'feature_33', 'feature_19', 'feature_74', 'feature_48', 'feature_47', 'enc_fe11', 'feature_22', 'feature_93', 'feature_10', 'feature_51', 'feature_34', 'enc_fe45', 'feature_109', 'feature_16', 'feature_1', 'feature_87', 'feature_23', 'feature_0']\n",
    "#features = features + ['feature_stock_id_sum', 'feature_1_2_cross', 'feature_34_43_cross'] \n",
    "\n",
    "features_enc = [c for c in enc_fe.columns if 'enc' in c]\n",
    "train = train[features_enc + ['action', 'date', 'weight', 'resp']]"
   ]
  },
  {
   "cell_type": "markdown",
   "metadata": {
    "papermill": {
     "duration": 0.01695,
     "end_time": "2021-02-10T19:23:03.526812",
     "exception": false,
     "start_time": "2021-02-10T19:23:03.509862",
     "status": "completed"
    },
    "tags": []
   },
   "source": [
    "# Training"
   ]
  },
  {
   "cell_type": "code",
   "execution_count": 10,
   "metadata": {
    "execution": {
     "iopub.execute_input": "2021-02-10T19:23:03.721422Z",
     "iopub.status.busy": "2021-02-10T19:23:03.720456Z",
     "iopub.status.idle": "2021-02-10T19:30:30.353880Z",
     "shell.execute_reply": "2021-02-10T19:30:30.354502Z"
    },
    "papermill": {
     "duration": 446.810169,
     "end_time": "2021-02-10T19:30:30.354701",
     "exception": false,
     "start_time": "2021-02-10T19:23:03.544532",
     "status": "completed"
    },
    "tags": []
   },
   "outputs": [
    {
     "name": "stdout",
     "output_type": "stream",
     "text": [
      "ROC AUC:\t 0.6424502254289515\n",
      "ROC AUC:\t 0.6427413807120198\n",
      "ROC AUC:\t 0.6439523122624801\n",
      "ROC AUC:\t 0.6423259932542875\n",
      "ROC AUC:\t 0.6426502481255298\n",
      "CPU times: user 10min 35s, sys: 1.99 s, total: 10min 37s\n",
      "Wall time: 7min 26s\n"
     ]
    }
   ],
   "source": [
    "%%time\n",
    "\n",
    "p_best =   {'n_estimators': 957,\n",
    "            'max_depth': 11,\n",
    "            'learning_rate': 0.011135865455082924,\n",
    "            'subsample': 0.7393122937861645,\n",
    "            'colsample_bytree': 0.8702159472037736,\n",
    "            'gamma': 9,\n",
    "            'verbosity': 0, \n",
    "            'objective': 'binary:logistic',\n",
    "            'eval_metric': 'auc', \n",
    "            'tree_method': 'gpu_hist', \n",
    "            'random_state': 42,   \n",
    "            }\n",
    "    \n",
    "#X_tr, y_tr = train.loc[train['date'] > 85, features_enc].values, train.loc[train['date'] > 85, 'action'].values\n",
    "X_tr, y_tr = train[features_enc].values, train['action'].values\n",
    "d_tr = xgb.DMatrix(X_tr, y_tr)\n",
    "\n",
    "# Seed Blending\n",
    "models = []\n",
    "for seed in range(5):\n",
    "    p_best['random_state'] = seed\n",
    "    clf = xgb.train(p_best, d_tr, p_best['n_estimators'])\n",
    "    \n",
    "    tr_pred = clf.predict(d_tr)\n",
    "    score = roc_auc_score(y_tr, tr_pred)\n",
    "    print(f'ROC AUC:\\t', score)\n",
    "    \n",
    "    models.append(clf)\n",
    "    \n",
    "    rubbish = gc.collect()"
   ]
  },
  {
   "cell_type": "markdown",
   "metadata": {
    "papermill": {
     "duration": 0.019523,
     "end_time": "2021-02-10T19:30:30.393852",
     "exception": false,
     "start_time": "2021-02-10T19:30:30.374329",
     "status": "completed"
    },
    "tags": []
   },
   "source": [
    "# Submitting"
   ]
  },
  {
   "cell_type": "code",
   "execution_count": 11,
   "metadata": {
    "execution": {
     "iopub.execute_input": "2021-02-10T19:30:30.440178Z",
     "iopub.status.busy": "2021-02-10T19:30:30.438315Z",
     "iopub.status.idle": "2021-02-10T19:30:30.440863Z",
     "shell.execute_reply": "2021-02-10T19:30:30.441337Z"
    },
    "papermill": {
     "duration": 0.02817,
     "end_time": "2021-02-10T19:30:30.441514",
     "exception": false,
     "start_time": "2021-02-10T19:30:30.413344",
     "status": "completed"
    },
    "tags": []
   },
   "outputs": [],
   "source": [
    "@njit\n",
    "def fast_fillna(array, values):\n",
    "    if np.isnan(array.sum()):\n",
    "        array = np.where(np.isnan(array), values, array)\n",
    "    return array\n",
    "\n",
    "#train.loc[0, features[1:]] = fast_fillna(train.loc[0, features[1:]].values, 0)"
   ]
  },
  {
   "cell_type": "code",
   "execution_count": 12,
   "metadata": {
    "execution": {
     "iopub.execute_input": "2021-02-10T19:30:30.486897Z",
     "iopub.status.busy": "2021-02-10T19:30:30.484958Z",
     "iopub.status.idle": "2021-02-10T19:30:30.487638Z",
     "shell.execute_reply": "2021-02-10T19:30:30.488172Z"
    },
    "papermill": {
     "duration": 0.027094,
     "end_time": "2021-02-10T19:30:30.488331",
     "exception": false,
     "start_time": "2021-02-10T19:30:30.461237",
     "status": "completed"
    },
    "tags": []
   },
   "outputs": [],
   "source": [
    "env = janestreet.make_env()\n",
    "env_iter = env.iter_test()"
   ]
  },
  {
   "cell_type": "code",
   "execution_count": 13,
   "metadata": {
    "execution": {
     "iopub.execute_input": "2021-02-10T19:30:30.537286Z",
     "iopub.status.busy": "2021-02-10T19:30:30.536126Z",
     "iopub.status.idle": "2021-02-10T19:34:46.817816Z",
     "shell.execute_reply": "2021-02-10T19:34:46.818340Z"
    },
    "papermill": {
     "duration": 256.310816,
     "end_time": "2021-02-10T19:34:46.818545",
     "exception": false,
     "start_time": "2021-02-10T19:30:30.507729",
     "status": "completed"
    },
    "tags": []
   },
   "outputs": [
    {
     "data": {
      "application/vnd.jupyter.widget-view+json": {
       "model_id": "8aa49aedcf844a4784936acebff06ac7",
       "version_major": 2,
       "version_minor": 0
      },
      "text/plain": [
       "|          | 0/? [00:00<?, ?it/s]"
      ]
     },
     "metadata": {},
     "output_type": "display_data"
    }
   ],
   "source": [
    "opt_th = 0.50125\n",
    "tmp = np.zeros(len(features))\n",
    "for (test_df, pred_df) in tqdm(env_iter):\n",
    "    if test_df['weight'].item() > 0:\n",
    "        x_tt = test_df.loc[:, features].values\n",
    "        x_tt[0, :] = fast_fillna(x_tt[0, :], tmp)\n",
    "        tmp = x_tt[0, :]\n",
    "        x_tt2 = encoder.predict(x_tt)\n",
    "        d_tt2 = xgb.DMatrix(x_tt2)\n",
    "        pred = 0.\n",
    "        for clf in models:\n",
    "            pred += clf.predict(d_tt2) / len(models)\n",
    "        pred_df.action = np.where(pred >= opt_th, 1, 0).astype(int)\n",
    "    else:\n",
    "        pred_df.action = 0\n",
    "    env.predict(pred_df)"
   ]
  }
 ],
 "metadata": {
  "kernelspec": {
   "display_name": "Python 3",
   "language": "python",
   "name": "python3"
  },
  "language_info": {
   "codemirror_mode": {
    "name": "ipython",
    "version": 3
   },
   "file_extension": ".py",
   "mimetype": "text/x-python",
   "name": "python",
   "nbconvert_exporter": "python",
   "pygments_lexer": "ipython3",
   "version": "3.7.9"
  },
  "papermill": {
   "default_parameters": {},
   "duration": 778.915992,
   "end_time": "2021-02-10T19:34:50.050621",
   "environment_variables": {},
   "exception": null,
   "input_path": "__notebook__.ipynb",
   "output_path": "__notebook__.ipynb",
   "parameters": {},
   "start_time": "2021-02-10T19:21:51.134629",
   "version": "2.2.2"
  },
  "widgets": {
   "application/vnd.jupyter.widget-state+json": {
    "state": {
     "0675b2b1911a4754a9dcd590eb6bfb65": {
      "model_module": "@jupyter-widgets/controls",
      "model_module_version": "1.5.0",
      "model_name": "HTMLModel",
      "state": {
       "_dom_classes": [],
       "_model_module": "@jupyter-widgets/controls",
       "_model_module_version": "1.5.0",
       "_model_name": "HTMLModel",
       "_view_count": null,
       "_view_module": "@jupyter-widgets/controls",
       "_view_module_version": "1.5.0",
       "_view_name": "HTMLView",
       "description": "",
       "description_tooltip": null,
       "layout": "IPY_MODEL_461a66068fdd42f7877ed0460abfd46b",
       "placeholder": "​",
       "style": "IPY_MODEL_cca1a144c48e4b0590ef99a0287752c1",
       "value": ""
      }
     },
     "13b1745645c44522a80938446bb3ea30": {
      "model_module": "@jupyter-widgets/controls",
      "model_module_version": "1.5.0",
      "model_name": "FloatProgressModel",
      "state": {
       "_dom_classes": [],
       "_model_module": "@jupyter-widgets/controls",
       "_model_module_version": "1.5.0",
       "_model_name": "FloatProgressModel",
       "_view_count": null,
       "_view_module": "@jupyter-widgets/controls",
       "_view_module_version": "1.5.0",
       "_view_name": "ProgressView",
       "bar_style": "success",
       "description": "",
       "description_tooltip": null,
       "layout": "IPY_MODEL_74ac8fb5ea214bdba9b158a75a4e0091",
       "max": 1.0,
       "min": 0.0,
       "orientation": "horizontal",
       "style": "IPY_MODEL_ab2f29bdfbfd4017ad024098d0c26981",
       "value": 1.0
      }
     },
     "329596c27b73437882e8680d195271db": {
      "model_module": "@jupyter-widgets/base",
      "model_module_version": "1.2.0",
      "model_name": "LayoutModel",
      "state": {
       "_model_module": "@jupyter-widgets/base",
       "_model_module_version": "1.2.0",
       "_model_name": "LayoutModel",
       "_view_count": null,
       "_view_module": "@jupyter-widgets/base",
       "_view_module_version": "1.2.0",
       "_view_name": "LayoutView",
       "align_content": null,
       "align_items": null,
       "align_self": null,
       "border": null,
       "bottom": null,
       "display": null,
       "flex": null,
       "flex_flow": null,
       "grid_area": null,
       "grid_auto_columns": null,
       "grid_auto_flow": null,
       "grid_auto_rows": null,
       "grid_column": null,
       "grid_gap": null,
       "grid_row": null,
       "grid_template_areas": null,
       "grid_template_columns": null,
       "grid_template_rows": null,
       "height": null,
       "justify_content": null,
       "justify_items": null,
       "left": null,
       "margin": null,
       "max_height": null,
       "max_width": null,
       "min_height": null,
       "min_width": null,
       "object_fit": null,
       "object_position": null,
       "order": null,
       "overflow": null,
       "overflow_x": null,
       "overflow_y": null,
       "padding": null,
       "right": null,
       "top": null,
       "visibility": null,
       "width": null
      }
     },
     "461a66068fdd42f7877ed0460abfd46b": {
      "model_module": "@jupyter-widgets/base",
      "model_module_version": "1.2.0",
      "model_name": "LayoutModel",
      "state": {
       "_model_module": "@jupyter-widgets/base",
       "_model_module_version": "1.2.0",
       "_model_name": "LayoutModel",
       "_view_count": null,
       "_view_module": "@jupyter-widgets/base",
       "_view_module_version": "1.2.0",
       "_view_name": "LayoutView",
       "align_content": null,
       "align_items": null,
       "align_self": null,
       "border": null,
       "bottom": null,
       "display": null,
       "flex": null,
       "flex_flow": null,
       "grid_area": null,
       "grid_auto_columns": null,
       "grid_auto_flow": null,
       "grid_auto_rows": null,
       "grid_column": null,
       "grid_gap": null,
       "grid_row": null,
       "grid_template_areas": null,
       "grid_template_columns": null,
       "grid_template_rows": null,
       "height": null,
       "justify_content": null,
       "justify_items": null,
       "left": null,
       "margin": null,
       "max_height": null,
       "max_width": null,
       "min_height": null,
       "min_width": null,
       "object_fit": null,
       "object_position": null,
       "order": null,
       "overflow": null,
       "overflow_x": null,
       "overflow_y": null,
       "padding": null,
       "right": null,
       "top": null,
       "visibility": null,
       "width": null
      }
     },
     "74ac8fb5ea214bdba9b158a75a4e0091": {
      "model_module": "@jupyter-widgets/base",
      "model_module_version": "1.2.0",
      "model_name": "LayoutModel",
      "state": {
       "_model_module": "@jupyter-widgets/base",
       "_model_module_version": "1.2.0",
       "_model_name": "LayoutModel",
       "_view_count": null,
       "_view_module": "@jupyter-widgets/base",
       "_view_module_version": "1.2.0",
       "_view_name": "LayoutView",
       "align_content": null,
       "align_items": null,
       "align_self": null,
       "border": null,
       "bottom": null,
       "display": null,
       "flex": null,
       "flex_flow": null,
       "grid_area": null,
       "grid_auto_columns": null,
       "grid_auto_flow": null,
       "grid_auto_rows": null,
       "grid_column": null,
       "grid_gap": null,
       "grid_row": null,
       "grid_template_areas": null,
       "grid_template_columns": null,
       "grid_template_rows": null,
       "height": null,
       "justify_content": null,
       "justify_items": null,
       "left": null,
       "margin": null,
       "max_height": null,
       "max_width": null,
       "min_height": null,
       "min_width": null,
       "object_fit": null,
       "object_position": null,
       "order": null,
       "overflow": null,
       "overflow_x": null,
       "overflow_y": null,
       "padding": null,
       "right": null,
       "top": null,
       "visibility": null,
       "width": "20px"
      }
     },
     "8aa49aedcf844a4784936acebff06ac7": {
      "model_module": "@jupyter-widgets/controls",
      "model_module_version": "1.5.0",
      "model_name": "HBoxModel",
      "state": {
       "_dom_classes": [],
       "_model_module": "@jupyter-widgets/controls",
       "_model_module_version": "1.5.0",
       "_model_name": "HBoxModel",
       "_view_count": null,
       "_view_module": "@jupyter-widgets/controls",
       "_view_module_version": "1.5.0",
       "_view_name": "HBoxView",
       "box_style": "",
       "children": [
        "IPY_MODEL_0675b2b1911a4754a9dcd590eb6bfb65",
        "IPY_MODEL_13b1745645c44522a80938446bb3ea30",
        "IPY_MODEL_be3d0b3c83254dee8c8910b641cfa9c6"
       ],
       "layout": "IPY_MODEL_b3232b54b2274682a29d69c334cadb72"
      }
     },
     "ab2f29bdfbfd4017ad024098d0c26981": {
      "model_module": "@jupyter-widgets/controls",
      "model_module_version": "1.5.0",
      "model_name": "ProgressStyleModel",
      "state": {
       "_model_module": "@jupyter-widgets/controls",
       "_model_module_version": "1.5.0",
       "_model_name": "ProgressStyleModel",
       "_view_count": null,
       "_view_module": "@jupyter-widgets/base",
       "_view_module_version": "1.2.0",
       "_view_name": "StyleView",
       "bar_color": null,
       "description_width": ""
      }
     },
     "af00c5dc7d0849398416765b971665c8": {
      "model_module": "@jupyter-widgets/controls",
      "model_module_version": "1.5.0",
      "model_name": "DescriptionStyleModel",
      "state": {
       "_model_module": "@jupyter-widgets/controls",
       "_model_module_version": "1.5.0",
       "_model_name": "DescriptionStyleModel",
       "_view_count": null,
       "_view_module": "@jupyter-widgets/base",
       "_view_module_version": "1.2.0",
       "_view_name": "StyleView",
       "description_width": ""
      }
     },
     "b3232b54b2274682a29d69c334cadb72": {
      "model_module": "@jupyter-widgets/base",
      "model_module_version": "1.2.0",
      "model_name": "LayoutModel",
      "state": {
       "_model_module": "@jupyter-widgets/base",
       "_model_module_version": "1.2.0",
       "_model_name": "LayoutModel",
       "_view_count": null,
       "_view_module": "@jupyter-widgets/base",
       "_view_module_version": "1.2.0",
       "_view_name": "LayoutView",
       "align_content": null,
       "align_items": null,
       "align_self": null,
       "border": null,
       "bottom": null,
       "display": null,
       "flex": null,
       "flex_flow": null,
       "grid_area": null,
       "grid_auto_columns": null,
       "grid_auto_flow": null,
       "grid_auto_rows": null,
       "grid_column": null,
       "grid_gap": null,
       "grid_row": null,
       "grid_template_areas": null,
       "grid_template_columns": null,
       "grid_template_rows": null,
       "height": null,
       "justify_content": null,
       "justify_items": null,
       "left": null,
       "margin": null,
       "max_height": null,
       "max_width": null,
       "min_height": null,
       "min_width": null,
       "object_fit": null,
       "object_position": null,
       "order": null,
       "overflow": null,
       "overflow_x": null,
       "overflow_y": null,
       "padding": null,
       "right": null,
       "top": null,
       "visibility": null,
       "width": null
      }
     },
     "be3d0b3c83254dee8c8910b641cfa9c6": {
      "model_module": "@jupyter-widgets/controls",
      "model_module_version": "1.5.0",
      "model_name": "HTMLModel",
      "state": {
       "_dom_classes": [],
       "_model_module": "@jupyter-widgets/controls",
       "_model_module_version": "1.5.0",
       "_model_name": "HTMLModel",
       "_view_count": null,
       "_view_module": "@jupyter-widgets/controls",
       "_view_module_version": "1.5.0",
       "_view_name": "HTMLView",
       "description": "",
       "description_tooltip": null,
       "layout": "IPY_MODEL_329596c27b73437882e8680d195271db",
       "placeholder": "​",
       "style": "IPY_MODEL_af00c5dc7d0849398416765b971665c8",
       "value": "15219it [04:16, 82.71it/s]"
      }
     },
     "cca1a144c48e4b0590ef99a0287752c1": {
      "model_module": "@jupyter-widgets/controls",
      "model_module_version": "1.5.0",
      "model_name": "DescriptionStyleModel",
      "state": {
       "_model_module": "@jupyter-widgets/controls",
       "_model_module_version": "1.5.0",
       "_model_name": "DescriptionStyleModel",
       "_view_count": null,
       "_view_module": "@jupyter-widgets/base",
       "_view_module_version": "1.2.0",
       "_view_name": "StyleView",
       "description_width": ""
      }
     }
    },
    "version_major": 2,
    "version_minor": 0
   }
  }
 },
 "nbformat": 4,
 "nbformat_minor": 4
}
